{
 "cells": [
  {
   "cell_type": "code",
   "execution_count": 3,
   "metadata": {},
   "outputs": [],
   "source": [
    "import numpy as np\n",
    "import os.path\n",
    "import matplotlib.pyplot as plt\n",
    "import sys\n",
    "import datetime\n",
    "import matplotlib.cm as cm\n",
    "import csv\n",
    "\n",
    "import time\n",
    "\n",
    "import sklearn\n",
    "from scipy import stats\n",
    "import sklearn.semi_supervised\n",
    "from sklearn.metrics import classification_report, confusion_matrix\n",
    "from sklearn.preprocessing import StandardScaler\n",
    "from sklearn.metrics import accuracy_score, f1_score\n",
    "\n",
    "import argparse\n",
    "\n",
    "import random\n",
    "from sklearn.metrics import f1_score"
   ]
  },
  {
   "cell_type": "code",
   "execution_count": 4,
   "metadata": {},
   "outputs": [],
   "source": [
    "\n",
    "#########################\n",
    "\n",
    "# number of multiprobe\n",
    "num_multi = 1\n",
    "\n",
    "# point size of phase diagram\n",
    "p_size = 25\n",
    "\n",
    "# initial number\n",
    "initial_num = 10\n",
    "\n",
    "# iteration number\n",
    "itt_num = 100\n",
    "\n",
    "# indipendent number\n",
    "ind_num = 10\n",
    "\n",
    "# method for multi\n",
    "#0: only ranking, 1:combination, 2:distance, 3:look-ahead\n",
    "multi_method = 0\n",
    "\n",
    "\n",
    "#########################\n",
    "\n",
    "random.seed(1)"
   ]
  },
  {
   "cell_type": "code",
   "execution_count": 6,
   "metadata": {},
   "outputs": [],
   "source": [
    "input_data = 'data.csv'\n",
    "f = open(input_data, 'r')"
   ]
  },
  {
   "cell_type": "code",
   "execution_count": 7,
   "metadata": {},
   "outputs": [],
   "source": [
    "ternary_data_list = []\n",
    "\n",
    "label_list_true = []\n",
    "\n",
    "data_list = []\n",
    "\n",
    "data_list2d = []\n",
    "\n",
    "co_num=[]\n",
    "label_list_text = []\n",
    "reader = csv.reader(f)\n",
    "for row in reader:\n",
    "    label_list_text.append(row[0])\n",
    "    data_list.append([float(row[1]),float(row[2])])\n",
    "    data_list2d.append([float(row[1]),float(row[2])])"
   ]
  },
  {
   "cell_type": "code",
   "execution_count": 9,
   "metadata": {},
   "outputs": [],
   "source": [
    "existed_phase=list(set(label_list_text))\n",
    "existed_phase.sort()\n",
    "\n",
    "\n",
    "for i in range(len(label_list_text)):\n",
    "\n",
    "    for j in range(len(existed_phase)):\n",
    "\n",
    "        if label_list_text[i]==existed_phase[j]:\n",
    "\n",
    "            label_list_true.append(j)\n",
    "\n",
    "    co_num.append(label_list_text[i].count(\"+\")+1)\n",
    "\n",
    "\n",
    "total_index_list = [i for i in range(len(label_list_true))]\n",
    "\n",
    "\n",
    "\n",
    "f1_res_tot = []\n",
    "\n",
    "num_phase_res_tot = []\n",
    "\n",
    "num_data_res_tot = []\n",
    "\n",
    "max_label = len(existed_phase)\n",
    "color_list = [cm.rainbow(float(i)/(max_label)) for i in range(max_label+1)]"
   ]
  },
  {
   "cell_type": "code",
   "execution_count": 10,
   "metadata": {},
   "outputs": [],
   "source": [
    "#初期点，选几个出来作为标记点\n",
    "labeled_index_list = random.sample(total_index_list, initial_num)"
   ]
  },
  {
   "cell_type": "code",
   "execution_count": 56,
   "metadata": {},
   "outputs": [
    {
     "data": {
      "text/plain": [
       "[68, 291, 391, 32, 130, 60, 253, 389, 230, 241]"
      ]
     },
     "execution_count": 56,
     "metadata": {},
     "output_type": "execute_result"
    }
   ],
   "source": [
    "labeled_index_list\n"
   ]
  },
  {
   "cell_type": "code",
   "execution_count": 13,
   "metadata": {},
   "outputs": [],
   "source": [
    "#未标记点\n",
    "unlabeled_index_list = list(set(total_index_list) - set(labeled_index_list))"
   ]
  },
  {
   "cell_type": "code",
   "execution_count": 11,
   "metadata": {},
   "outputs": [
    {
     "data": {
      "text/plain": [
       "[68, 291, 391, 32, 130, 60, 253, 389, 230, 241]"
      ]
     },
     "execution_count": 11,
     "metadata": {},
     "output_type": "execute_result"
    }
   ],
   "source": [
    "labeled_index_list"
   ]
  },
  {
   "cell_type": "code",
   "execution_count": 14,
   "metadata": {},
   "outputs": [],
   "source": [
    "        # f1_res = []\n",
    "\n",
    "        # num_phase_res = []\n",
    "\n",
    "        # num_data_res = []"
   ]
  },
  {
   "cell_type": "code",
   "execution_count": 15,
   "metadata": {},
   "outputs": [
    {
     "name": "stdout",
     "output_type": "stream",
     "text": [
      "number of training data = 10\n"
     ]
    }
   ],
   "source": [
    "        # for itt in range(itt_num):\n",
    "\n",
    "\n",
    "        #     print(\"*************************\")\n",
    "        #     print(\"independent run =\", ind)\n",
    "        #     print(\"iteration =\", itt)\n",
    "\n",
    "num_training = len(labeled_index_list)\n",
    "\n",
    "print(\"number of training data =\", num_training)"
   ]
  },
  {
   "cell_type": "code",
   "execution_count": 16,
   "metadata": {},
   "outputs": [],
   "source": [
    "label_list = []\n",
    "\n",
    "for i in range(len(label_list_true)):\n",
    "    if i in labeled_index_list:\n",
    "        label_list.append(label_list_true[i])\n",
    "\n",
    "    else:\n",
    "        label_list.append(-1)"
   ]
  },
  {
   "cell_type": "code",
   "execution_count": 17,
   "metadata": {},
   "outputs": [],
   "source": [
    "label_train = np.copy(label_list)"
   ]
  },
  {
   "cell_type": "code",
   "execution_count": 21,
   "metadata": {},
   "outputs": [
    {
     "data": {
      "text/plain": [
       "400"
      ]
     },
     "execution_count": 21,
     "metadata": {},
     "output_type": "execute_result"
    }
   ],
   "source": [
    "len(data_list)"
   ]
  },
  {
   "cell_type": "code",
   "execution_count": 57,
   "metadata": {},
   "outputs": [
    {
     "data": {
      "text/plain": [
       "array([1, 2, 2, 1, 2, 1, 0, 2, 2, 0])"
      ]
     },
     "execution_count": 57,
     "metadata": {},
     "output_type": "execute_result"
    }
   ],
   "source": [
    "label_train[labeled_index_list]"
   ]
  },
  {
   "cell_type": "code",
   "execution_count": 64,
   "metadata": {},
   "outputs": [
    {
     "data": {
      "text/plain": [
       "array([0.42105263, 0.57894737, 0.57894737, 0.63157895, 0.52631579,\n",
       "       0.        , 0.68421053, 0.47368421, 0.52631579, 0.05263158])"
      ]
     },
     "execution_count": 64,
     "metadata": {},
     "output_type": "execute_result"
    }
   ],
   "source": [
    "data_list2d[labeled_index_list].T[0]"
   ]
  },
  {
   "cell_type": "code",
   "execution_count": null,
   "metadata": {},
   "outputs": [],
   "source": [
    "u_score_list"
   ]
  },
  {
   "cell_type": "code",
   "execution_count": null,
   "metadata": {},
   "outputs": [],
   "source": []
  },
  {
   "cell_type": "code",
   "execution_count": 180,
   "metadata": {},
   "outputs": [
    {
     "data": {
      "image/png": "[encoded data removed]",
      "text/plain": [
       "<Figure size 800x800 with 1 Axes>"
      ]
     },
     "metadata": {},
     "output_type": "display_data"
    }
   ],
   "source": [
    "plt.figure(figsize=(8,8))\n",
    "plt.scatter(data_list2d[unlabeled_index_list].T[0],data_list2d[unlabeled_index_list].T[1],alpha=u_score_list*1.5+0.05,c=predicted_labels,cmap='cool', marker='s' )\n",
    "plt.scatter(data_list2d[labeled_index_list].T[0],data_list2d[labeled_index_list].T[1], c=label_train[labeled_index_list],cmap='cool',marker='s',edgecolors=\"black\",s=80 )\n",
    "plt.show()"
   ]
  },
  {
   "cell_type": "code",
   "execution_count": null,
   "metadata": {},
   "outputs": [],
   "source": [
    "plt.figure(figsize=(8,8))\n",
    "plt.scatter(data_list2d[unlabeled_index_list].T[0],data_list2d[unlabeled_index_list].T[1],c=u_score_list,cmap='Blues', marker='s' )\n",
    "plt.scatter(data_list2d[labeled_index_list].T[0],data_list2d[labeled_index_list].T[1], c=label_train[labeled_index_list],cmap='cool',marker='s' )\n",
    "plt.show()"
   ]
  },
  {
   "cell_type": "code",
   "execution_count": 23,
   "metadata": {},
   "outputs": [],
   "source": [
    "dimension = len(data_list[0])"
   ]
  },
  {
   "cell_type": "code",
   "execution_count": 25,
   "metadata": {},
   "outputs": [],
   "source": [
    "## 好像差不多?\n",
    "data_list = np.array(data_list)\n",
    "data_list2d = np.array(data_list2d)\n"
   ]
  },
  {
   "cell_type": "code",
   "execution_count": 29,
   "metadata": {},
   "outputs": [],
   "source": [
    "color_list = [cm.rainbow(float(i)/(max_label)) for i in range(max_label+1)]"
   ]
  },
  {
   "cell_type": "code",
   "execution_count": 31,
   "metadata": {},
   "outputs": [],
   "source": [
    "# scaling\n",
    "ss = StandardScaler()\n",
    "ss.fit(data_list)\n",
    "data_list_std = ss.transform(data_list)"
   ]
  },
  {
   "cell_type": "code",
   "execution_count": null,
   "metadata": {},
   "outputs": [],
   "source": [
    "output_rank = True\n",
    "multi_uncertainty_index,label_distributions,u_score_list,ranking,predicted_all_labels \\\n",
    "= sampling(label_train,labeled_index_list,unlabeled_index_list)\n",
    "#output_rank = True"
   ]
  },
  {
   "cell_type": "code",
   "execution_count": 34,
   "metadata": {},
   "outputs": [],
   "source": [
    "###########\n",
    "## 第一步，选择算法\n",
    "# if LP_algorithm == 'LS':\n",
    "#     lp_model = sklearn.semi_supervised.LabelSpreading()\n",
    "# elif LP_algorithm == 'LP':\n",
    "#     lp_model = sklearn.semi_supervised.LabelPropagation()\n",
    "lp_model = sklearn.semi_supervised.LabelSpreading()"
   ]
  },
  {
   "cell_type": "code",
   "execution_count": 35,
   "metadata": {},
   "outputs": [
    {
     "data": {
      "text/plain": [
       "LabelSpreading()"
      ]
     },
     "execution_count": 35,
     "metadata": {},
     "output_type": "execute_result"
    }
   ],
   "source": [
    "lp_model.fit(data_list_std, label_train)"
   ]
  },
  {
   "cell_type": "code",
   "execution_count": 36,
   "metadata": {},
   "outputs": [],
   "source": [
    "#预测无标签的东西的标签\n",
    "predicted_labels = lp_model.transduction_[unlabeled_index_list]\n"
   ]
  },
  {
   "cell_type": "code",
   "execution_count": 38,
   "metadata": {},
   "outputs": [],
   "source": [
    "#搞一下全数据的标签\n",
    "predicted_all_labels = lp_model.transduction_"
   ]
  },
  {
   "cell_type": "code",
   "execution_count": 40,
   "metadata": {},
   "outputs": [],
   "source": [
    "label_distributions = lp_model.label_distributions_[unlabeled_index_list]\n",
    "label_distributions_all = lp_model.label_distributions_"
   ]
  },
  {
   "cell_type": "code",
   "execution_count": 44,
   "metadata": {},
   "outputs": [
    {
     "data": {
      "text/plain": [
       "400"
      ]
     },
     "execution_count": 44,
     "metadata": {},
     "output_type": "execute_result"
    }
   ],
   "source": [
    "len(predicted_all_labels)"
   ]
  },
  {
   "cell_type": "code",
   "execution_count": 43,
   "metadata": {},
   "outputs": [
    {
     "data": {
      "text/plain": [
       "(390, 3)"
      ]
     },
     "execution_count": 43,
     "metadata": {},
     "output_type": "execute_result"
    }
   ],
   "source": [
    "label_distributions.shape"
   ]
  },
  {
   "cell_type": "code",
   "execution_count": 47,
   "metadata": {},
   "outputs": [
    {
     "data": {
      "text/plain": [
       "array([0, 1, 2])"
      ]
     },
     "execution_count": 47,
     "metadata": {},
     "output_type": "execute_result"
    }
   ],
   "source": [
    "#目前获取的标签\n",
    "classes = lp_model.classes_\n",
    "classes"
   ]
  },
  {
   "cell_type": "code",
   "execution_count": 49,
   "metadata": {},
   "outputs": [],
   "source": [
    "u_score_list = 1 - np.max(label_distributions, axis = 1)\n",
    "\n",
    "# most uncertain point\n",
    "uncertainty_index = [unlabeled_index_list[np.argmax(u_score_list)]]\n",
    "US_point_prob = label_distributions[np.argmax(u_score_list)]\n",
    "\n",
    "# all ranking of uncertain point\n",
    "ranking = np.array(u_score_list).argsort()[::-1]\n",
    "multi_uncertainty_index = [unlabeled_index_list[ranking[i]] for i in range(len(unlabeled_index_list))]"
   ]
  },
  {
   "cell_type": "code",
   "execution_count": 100,
   "metadata": {},
   "outputs": [
    {
     "data": {
      "text/plain": [
       "390"
      ]
     },
     "execution_count": 100,
     "metadata": {},
     "output_type": "execute_result"
    }
   ],
   "source": [
    "len(u_score_list)"
   ]
  },
  {
   "cell_type": "code",
   "execution_count": null,
   "metadata": {},
   "outputs": [],
   "source": [
    "#multi_uncertainty_index,label_distributions,u_score_list,ranking,predicted_all_labels"
   ]
  },
  {
   "cell_type": "code",
   "execution_count": 55,
   "metadata": {},
   "outputs": [],
   "source": [
    "# #calculate Uncertainly Score\n",
    "# if US_strategy == 'E':\n",
    "#     pred_entropies = stats.distributions.entropy(label_distributions.T)\n",
    "#     u_score_list = pred_entropies/np.max(pred_entropies)\n",
    "        \n",
    "#     # most uncertain point\n",
    "#     uncertainty_index = [unlabeled_index_list[np.argmax(u_score_list)]]\n",
    "#     US_point_prob = label_distributions[np.argmax(u_score_list)]\n",
    "\n",
    "#     # all ranking of uncertain point\n",
    "#     ranking = np.array(u_score_list).argsort()[::-1]\n",
    "#     multi_uncertainty_index = [unlabeled_index_list[ranking[i]] for i in range(len(unlabeled_index_list))]"
   ]
  },
  {
   "cell_type": "code",
   "execution_count": 113,
   "metadata": {},
   "outputs": [
    {
     "data": {
      "text/plain": [
       "1"
      ]
     },
     "execution_count": 113,
     "metadata": {},
     "output_type": "execute_result"
    }
   ],
   "source": [
    "num_multi"
   ]
  },
  {
   "cell_type": "code",
   "execution_count": 114,
   "metadata": {},
   "outputs": [
    {
     "name": "stdout",
     "output_type": "stream",
     "text": [
      "[138]\n"
     ]
    }
   ],
   "source": [
    "US_point = multi_uncertainty_index[0:num_multi]\n",
    "\n",
    "print(US_point)"
   ]
  },
  {
   "cell_type": "code",
   "execution_count": 126,
   "metadata": {},
   "outputs": [
    {
     "data": {
      "text/plain": [
       "0.6173133088762603"
      ]
     },
     "execution_count": 126,
     "metadata": {},
     "output_type": "execute_result"
    }
   ],
   "source": [
    "u_score_list[134]"
   ]
  },
  {
   "cell_type": "code",
   "execution_count": 124,
   "metadata": {},
   "outputs": [
    {
     "data": {
      "text/plain": [
       "138"
      ]
     },
     "execution_count": 124,
     "metadata": {},
     "output_type": "execute_result"
    }
   ],
   "source": [
    "unlabeled_index_list[134]"
   ]
  },
  {
   "cell_type": "code",
   "execution_count": 121,
   "metadata": {},
   "outputs": [
    {
     "data": {
      "text/plain": [
       "0.6173133088762603"
      ]
     },
     "execution_count": 121,
     "metadata": {},
     "output_type": "execute_result"
    }
   ],
   "source": [
    "u_score_list.max()"
   ]
  },
  {
   "cell_type": "code",
   "execution_count": 122,
   "metadata": {},
   "outputs": [],
   "source": [
    "ranking = np.array(u_score_list).argsort()[::-1]"
   ]
  },
  {
   "cell_type": "code",
   "execution_count": 127,
   "metadata": {},
   "outputs": [
    {
     "data": {
      "text/plain": [
       "array([134, 133, 135, 285, 208, 306, 265, 141, 351, 112,  89, 328, 161,\n",
       "       374, 152, 124, 350, 132, 170, 181,  87, 327, 105, 151, 297, 111,\n",
       "       140, 142, 123, 329], dtype=int64)"
      ]
     },
     "execution_count": 127,
     "metadata": {},
     "output_type": "execute_result"
    }
   ],
   "source": [
    "#将index按照uscore从大到小排列\n",
    "ranking[:30]"
   ]
  },
  {
   "cell_type": "code",
   "execution_count": 130,
   "metadata": {},
   "outputs": [
    {
     "data": {
      "text/plain": [
       "142"
      ]
     },
     "execution_count": 130,
     "metadata": {},
     "output_type": "execute_result"
    }
   ],
   "source": [
    "unlabeled_index_list[138]"
   ]
  },
  {
   "cell_type": "code",
   "execution_count": 141,
   "metadata": {},
   "outputs": [
    {
     "data": {
      "text/plain": [
       "390"
      ]
     },
     "execution_count": 141,
     "metadata": {},
     "output_type": "execute_result"
    }
   ],
   "source": [
    "len(ranking)"
   ]
  },
  {
   "cell_type": "code",
   "execution_count": 156,
   "metadata": {},
   "outputs": [
    {
     "data": {
      "text/plain": [
       "134"
      ]
     },
     "execution_count": 156,
     "metadata": {},
     "output_type": "execute_result"
    }
   ],
   "source": [
    "unlabeled_index_list.index(138)"
   ]
  },
  {
   "cell_type": "code",
   "execution_count": 128,
   "metadata": {},
   "outputs": [],
   "source": [
    " multi_uncertainty_index = [unlabeled_index_list[ranking[i]] for i in range(len(unlabeled_index_list))]"
   ]
  },
  {
   "cell_type": "code",
   "execution_count": 133,
   "metadata": {},
   "outputs": [
    {
     "data": {
      "text/plain": [
       "390"
      ]
     },
     "execution_count": 133,
     "metadata": {},
     "output_type": "execute_result"
    }
   ],
   "source": [
    "len(multi_uncertainty_index)"
   ]
  },
  {
   "cell_type": "code",
   "execution_count": 136,
   "metadata": {},
   "outputs": [
    {
     "data": {
      "text/plain": [
       "[138, 137, 139, 293, 212, 314, 272, 145, 359, 115]"
      ]
     },
     "execution_count": 136,
     "metadata": {},
     "output_type": "execute_result"
    }
   ],
   "source": [
    "multi_uncertainty_index[:10]"
   ]
  },
  {
   "cell_type": "code",
   "execution_count": 154,
   "metadata": {},
   "outputs": [
    {
     "data": {
      "text/plain": [
       "0.1876332653508448"
      ]
     },
     "execution_count": 154,
     "metadata": {},
     "output_type": "execute_result"
    }
   ],
   "source": [
    "u_score_list[138]"
   ]
  },
  {
   "cell_type": "code",
   "execution_count": 142,
   "metadata": {},
   "outputs": [],
   "source": [
    "US_point = multi_uncertainty_index[0:num_multi]"
   ]
  },
  {
   "cell_type": "code",
   "execution_count": 143,
   "metadata": {},
   "outputs": [
    {
     "data": {
      "text/plain": [
       "[138]"
      ]
     },
     "execution_count": 143,
     "metadata": {},
     "output_type": "execute_result"
    }
   ],
   "source": [
    "US_point"
   ]
  },
  {
   "cell_type": "code",
   "execution_count": 150,
   "metadata": {},
   "outputs": [
    {
     "data": {
      "text/plain": [
       "0.1876332653508448"
      ]
     },
     "execution_count": 150,
     "metadata": {},
     "output_type": "execute_result"
    }
   ],
   "source": [
    "u_score_list[138]"
   ]
  },
  {
   "cell_type": "code",
   "execution_count": 146,
   "metadata": {},
   "outputs": [
    {
     "data": {
      "text/plain": [
       "[68, 291, 391, 32, 130, 60, 253, 389, 230, 241]"
      ]
     },
     "execution_count": 146,
     "metadata": {},
     "output_type": "execute_result"
    }
   ],
   "source": [
    "labeled_index_list"
   ]
  },
  {
   "cell_type": "code",
   "execution_count": 151,
   "metadata": {},
   "outputs": [
    {
     "data": {
      "text/plain": [
       "142"
      ]
     },
     "execution_count": 151,
     "metadata": {},
     "output_type": "execute_result"
    }
   ],
   "source": [
    "unlabeled_index_list[138]"
   ]
  },
  {
   "cell_type": "code",
   "execution_count": 183,
   "metadata": {},
   "outputs": [
    {
     "data": {
      "text/plain": [
       "0.6002553654877952"
      ]
     },
     "execution_count": 183,
     "metadata": {},
     "output_type": "execute_result"
    }
   ],
   "source": [
    "#multi policy 选样本的方法？\n",
    "\n",
    "f1_score(label_list_true, list(predicted_all_labels), average=\"macro\")"
   ]
  },
  {
   "cell_type": "code",
   "execution_count": null,
   "metadata": {},
   "outputs": [],
   "source": []
  }
 ],
 "metadata": {
  "kernelspec": {
   "display_name": "Python 3.7.13 ('dlenv')",
   "language": "python",
   "name": "python3"
  },
  "language_info": {
   "codemirror_mode": {
    "name": "ipython",
    "version": 3
   },
   "file_extension": ".py",
   "mimetype": "text/x-python",
   "name": "python",
   "nbconvert_exporter": "python",
   "pygments_lexer": "ipython3",
   "version": "3.7.13 (default, Mar 28 2022, 08:03:21) [MSC v.1916 64 bit (AMD64)]"
  },
  "orig_nbformat": 4,
  "vscode": {
   "interpreter": {
    "hash": "bfaf30252ec9b6acfc031c6ccf1be5e3a55a4dd30ee988b435030d4b5b184b28"
   }
  }
 },
 "nbformat": 4,
 "nbformat_minor": 2
}
